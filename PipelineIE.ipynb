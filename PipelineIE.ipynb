{
  "nbformat": 4,
  "nbformat_minor": 0,
  "metadata": {
    "colab": {
      "name": "PipelineIE.ipynb",
      "provenance": [],
      "authorship_tag": "ABX9TyM1oVuR33aQimGx3GM7wsgL",
      "include_colab_link": true
    },
    "kernelspec": {
      "name": "python3",
      "display_name": "Python 3"
    }
  },
  "cells": [
    {
      "cell_type": "markdown",
      "metadata": {
        "id": "view-in-github",
        "colab_type": "text"
      },
      "source": [
        "<a href=\"https://colab.research.google.com/github/vj1494/PipelineIE/blob/master/PipelineIE.ipynb\" target=\"_parent\"><img src=\"https://colab.research.google.com/assets/colab-badge.svg\" alt=\"Open In Colab\"/></a>"
      ]
    },
    {
      "cell_type": "markdown",
      "metadata": {
        "id": "XcZIoBqW6L6j"
      },
      "source": [
        "**INFORMATION EXTRACTION PIPELINE (PipelineIE) - Triple Extraction**"
      ]
    },
    {
      "cell_type": "markdown",
      "metadata": {
        "id": "q-cskD7d7bTt"
      },
      "source": [
        "This Notebook is a demonstration of the usage of an open source project named [PipelineIE](https://github.com/vj1494/PipelineIE) which extracts information from free text (English) and domain specific text like biomedical domain. It also supports custom spaCy models. The triplets are based on the subject verb object rule. The pipeline takes care of resolving coreferences using neuralcoref/Stanford CoreNLP and Entity Linking using spaCy and scispaCy model or any custom spaCy model which helps in mapping the subject and object to its original entity.\n",
        "\n",
        "The 'default' pipeline uses spaCy's 'en_core_web_md' model. An end user can customize their pipeline and use their choice of coreference resolver and entity linker.\n",
        "\n",
        "This Notebook uses the default biomedical pipeline which uses ScispaCy's en-core-sci-lg model with neuralcoref in coreference resolution and in entity linking and dependency parsing for triple extraction. Further it also demonstrates the usage of custom pipeline by making use of UMLS for entity linker, default pipeline and shows some use cases for various scenarios (in comments as cases)."
      ]
    },
    {
      "cell_type": "markdown",
      "metadata": {
        "id": "JB7GiFzUICOv"
      },
      "source": [
        "Installing neuralcoref from source"
      ]
    },
    {
      "cell_type": "code",
      "metadata": {
        "id": "zu7T8RBahw2j"
      },
      "source": [
        "!git clone https://github.com/huggingface/neuralcoref.git\n",
        "%cd neuralcoref\n",
        "!pip install -r requirements.txt\n",
        "!pip install -e ."
      ],
      "execution_count": null,
      "outputs": []
    },
    {
      "cell_type": "markdown",
      "metadata": {
        "id": "1JkSQ0OTIJ3k"
      },
      "source": [
        "Installing and setting up PipelineIE"
      ]
    },
    {
      "cell_type": "code",
      "metadata": {
        "id": "MGGz0nT6h537"
      },
      "source": [
        "%cd ../\n",
        "!git clone https://github.com/vj1494/PipelineIE.git\n",
        "%cd PipelineIE\n",
        "!pip install -r requirements.txt\n",
        "!pip install -e ."
      ],
      "execution_count": null,
      "outputs": []
    },
    {
      "cell_type": "markdown",
      "metadata": {
        "id": "Fb1KDwYVIbx5"
      },
      "source": [
        "Restart Runtime (Jupyter requires this after installation of new packages) and Import PipelineIE"
      ]
    },
    {
      "cell_type": "code",
      "metadata": {
        "id": "1foUN77DIUg3"
      },
      "source": [
        "from pipeline_ie.pipeline_ie import PipelineIE\n",
        "import pandas as pd\n",
        "pd.set_option('display.max_colwidth', -1)"
      ],
      "execution_count": null,
      "outputs": []
    },
    {
      "cell_type": "markdown",
      "metadata": {
        "id": "Jep2OCm_IhhP"
      },
      "source": [
        "Biomedical Pipeline (The biomedical pipeline uses ScispaCy's 'en_core_sci_lg' with neuralcoref for coreference resolution and also for entity linking and dependecy parsing for triple extraction using textaCy (subject verb object rule))"
      ]
    },
    {
      "cell_type": "code",
      "metadata": {
        "colab": {
          "base_uri": "https://localhost:8080/",
          "height": 97
        },
        "id": "93fRL9w_qtgH",
        "outputId": "334f3031-e6fe-4204-e069-2abbc1fc41a7"
      },
      "source": [
        "text = \"Co-culture of NK cells with transfected EC enhanced E-selectin, IL-8, and NF-kappaB-dependent promoter activity.\"\n",
        "\n",
        "#Biomedical PipelineIE\n",
        "#Default Biomedical Pipeline uses ScispaCy en_core_sci_lg model\n",
        "#Same model is used for neuralcoref, entity linkage and triple extraction \n",
        "#pipeline_ie=\"default\" uses spacy en model\n",
        "pie = PipelineIE(text, pipeline=\"biomedical\")\n",
        "\n",
        "#Returns a dataframe\n",
        "pie.pipeline_triplet()"
      ],
      "execution_count": 7,
      "outputs": [
        {
          "output_type": "execute_result",
          "data": {
            "text/html": [
              "<div>\n",
              "<style scoped>\n",
              "    .dataframe tbody tr th:only-of-type {\n",
              "        vertical-align: middle;\n",
              "    }\n",
              "\n",
              "    .dataframe tbody tr th {\n",
              "        vertical-align: top;\n",
              "    }\n",
              "\n",
              "    .dataframe thead th {\n",
              "        text-align: right;\n",
              "    }\n",
              "</style>\n",
              "<table border=\"1\" class=\"dataframe\">\n",
              "  <thead>\n",
              "    <tr style=\"text-align: right;\">\n",
              "      <th></th>\n",
              "      <th>Sentences</th>\n",
              "      <th>Triplet</th>\n",
              "    </tr>\n",
              "  </thead>\n",
              "  <tbody>\n",
              "    <tr>\n",
              "      <th>1</th>\n",
              "      <td>Co-culture of NK cells with transfected EC enhanced E-selectin, IL-8, and NF-kappaB-dependent promoter activity.</td>\n",
              "      <td>[[(Co-culture), enhanced, (E-selectin)], [(Co-culture), enhanced, (IL-8)], [(Co-culture), enhanced, (NF-kappaB-dependent, promoter, activity)]]</td>\n",
              "    </tr>\n",
              "  </tbody>\n",
              "</table>\n",
              "</div>"
            ],
            "text/plain": [
              "                                                                                                          Sentences                                                                                                                                          Triplet\n",
              "1  Co-culture of NK cells with transfected EC enhanced E-selectin, IL-8, and NF-kappaB-dependent promoter activity.  [[(Co-culture), enhanced, (E-selectin)], [(Co-culture), enhanced, (IL-8)], [(Co-culture), enhanced, (NF-kappaB-dependent, promoter, activity)]]"
            ]
          },
          "metadata": {
            "tags": []
          },
          "execution_count": 7
        }
      ]
    },
    {
      "cell_type": "markdown",
      "metadata": {
        "id": "hUiEY5_KJ_nD"
      },
      "source": [
        "Biomedical Pipeline using UMLS as entity linker (Requires high RAM)"
      ]
    },
    {
      "cell_type": "code",
      "metadata": {
        "colab": {
          "base_uri": "https://localhost:8080/",
          "height": 355
        },
        "id": "NkpoQKXiqtnb",
        "outputId": "c5626bd4-ccda-4a40-f081-93ebcd1a1f90"
      },
      "source": [
        "text = \"Co-culture of NK cells with transfected EC enhanced E-selectin, IL-8, and NF-kappaB-dependent promoter activity.\"\n",
        "\n",
        "#Biomedical PipelineIE\n",
        "#Default Biomedical Pipeline uses ScispaCy en_core_sci_lg model\n",
        "#Same model is used for neuralcoref, entity linkage and triple extraction \n",
        "#pipeline_ie=\"default\" uses spacy en model\n",
        "#Updating entity linker from spacy to UMLS in biomedical pipeline (requires entire pipeline properties to be mentioned)\n",
        "pie = PipelineIE(text, pipeline=\"biomedical\", properties={'coref':'neuralcoref', 'entity_link': 'umls', 'ie': 'triplet'})\n",
        "\n",
        "#Returns a dataframe\n",
        "pie.pipeline_triplet()"
      ],
      "execution_count": 3,
      "outputs": [
        {
          "output_type": "stream",
          "text": [
            "/usr/local/lib/python3.6/dist-packages/sklearn/base.py:318: UserWarning: Trying to unpickle estimator TfidfTransformer from version 0.20.3 when using version 0.22.2.post1. This might lead to breaking code or invalid results. Use at your own risk.\n",
            "  UserWarning)\n",
            "/usr/local/lib/python3.6/dist-packages/sklearn/base.py:318: UserWarning: Trying to unpickle estimator TfidfVectorizer from version 0.20.3 when using version 0.22.2.post1. This might lead to breaking code or invalid results. Use at your own risk.\n",
            "  UserWarning)\n"
          ],
          "name": "stderr"
        },
        {
          "output_type": "stream",
          "text": [
            "https://s3-us-west-2.amazonaws.com/ai2-s2-scispacy/data/umls_semantic_type_tree.tsv not found in cache, downloading to /tmp/tmpuo_ow9zo\n",
            "Finished download, copying /tmp/tmpuo_ow9zo to cache at /root/.scispacy/datasets/21a1012c532c3a431d60895c509f5b4d45b0f8966c4178b892190a302b21836f.330707f4efe774134872b9f77f0e3208c1d30f50800b3b39a6b8ec21d9adf1b7.umls_semantic_type_tree.tsv\n"
          ],
          "name": "stdout"
        },
        {
          "output_type": "stream",
          "text": [
            "/usr/local/lib/python3.6/dist-packages/scispacy/candidate_generation.py:284: VisibleDeprecationWarning: Creating an ndarray from ragged nested sequences (which is a list-or-tuple of lists-or-tuples-or ndarrays with different lengths or shapes) is deprecated. If you meant to do this, you must specify 'dtype=object' when creating the ndarray\n",
            "  extended_neighbors[empty_vectors_boolean_flags] = numpy.array(neighbors)[:-1]\n",
            "/usr/local/lib/python3.6/dist-packages/scispacy/candidate_generation.py:285: VisibleDeprecationWarning: Creating an ndarray from ragged nested sequences (which is a list-or-tuple of lists-or-tuples-or ndarrays with different lengths or shapes) is deprecated. If you meant to do this, you must specify 'dtype=object' when creating the ndarray\n",
            "  extended_distances[empty_vectors_boolean_flags] = numpy.array(distances)[:-1]\n",
            "/usr/local/lib/python3.6/dist-packages/scispacy/candidate_generation.py:284: VisibleDeprecationWarning: Creating an ndarray from ragged nested sequences (which is a list-or-tuple of lists-or-tuples-or ndarrays with different lengths or shapes) is deprecated. If you meant to do this, you must specify 'dtype=object' when creating the ndarray\n",
            "  extended_neighbors[empty_vectors_boolean_flags] = numpy.array(neighbors)[:-1]\n",
            "/usr/local/lib/python3.6/dist-packages/scispacy/candidate_generation.py:285: VisibleDeprecationWarning: Creating an ndarray from ragged nested sequences (which is a list-or-tuple of lists-or-tuples-or ndarrays with different lengths or shapes) is deprecated. If you meant to do this, you must specify 'dtype=object' when creating the ndarray\n",
            "  extended_distances[empty_vectors_boolean_flags] = numpy.array(distances)[:-1]\n"
          ],
          "name": "stderr"
        },
        {
          "output_type": "execute_result",
          "data": {
            "text/html": [
              "<div>\n",
              "<style scoped>\n",
              "    .dataframe tbody tr th:only-of-type {\n",
              "        vertical-align: middle;\n",
              "    }\n",
              "\n",
              "    .dataframe tbody tr th {\n",
              "        vertical-align: top;\n",
              "    }\n",
              "\n",
              "    .dataframe thead th {\n",
              "        text-align: right;\n",
              "    }\n",
              "</style>\n",
              "<table border=\"1\" class=\"dataframe\">\n",
              "  <thead>\n",
              "    <tr style=\"text-align: right;\">\n",
              "      <th></th>\n",
              "      <th>Sentences</th>\n",
              "      <th>Triplet</th>\n",
              "    </tr>\n",
              "  </thead>\n",
              "  <tbody>\n",
              "    <tr>\n",
              "      <th>1</th>\n",
              "      <td>Co-culture of NK cells with transfected EC enhanced E-selectin, IL-8, and NF-kappaB-dependent promoter activity.</td>\n",
              "      <td>[[(Co-culture), enhanced, (E-selectin)], [(Co-culture), enhanced, (IL-8)], [(Co-culture), enhanced, (NF-kappaB-dependent, promoter, activity)]]</td>\n",
              "    </tr>\n",
              "  </tbody>\n",
              "</table>\n",
              "</div>"
            ],
            "text/plain": [
              "                                                                                                          Sentences                                                                                                                                          Triplet\n",
              "1  Co-culture of NK cells with transfected EC enhanced E-selectin, IL-8, and NF-kappaB-dependent promoter activity.  [[(Co-culture), enhanced, (E-selectin)], [(Co-culture), enhanced, (IL-8)], [(Co-culture), enhanced, (NF-kappaB-dependent, promoter, activity)]]"
            ]
          },
          "metadata": {
            "tags": []
          },
          "execution_count": 3
        }
      ]
    },
    {
      "cell_type": "markdown",
      "metadata": {
        "id": "ujoUO070LGzf"
      },
      "source": [
        "Default Pipeline (Suitable for generalized tasks or tasks not specific to a domain)\n"
      ]
    },
    {
      "cell_type": "code",
      "metadata": {
        "colab": {
          "base_uri": "https://localhost:8080/",
          "height": 142
        },
        "id": "u2JtZINUiGBL",
        "outputId": "350436bd-a380-4360-ee50-daa2cc55ca13"
      },
      "source": [
        "text = \"Ajay leads the Support team. He requested a long leave. SBI raised several tickets and he leads its product maintainance.\"\n",
        "\n",
        "#Default PipelineIE\n",
        "#Default Biomedical Pipeline uses spaCy's en model\n",
        "#Same model is used for neuralcoref, entity linkage and triple extraction \n",
        "#pipeline_ie=\"default\" uses spacy en model\n",
        "pie = PipelineIE(text)\n",
        "\n",
        "#Returns a dataframe\n",
        "pie.pipeline_triplet()"
      ],
      "execution_count": 27,
      "outputs": [
        {
          "output_type": "execute_result",
          "data": {
            "text/html": [
              "<div>\n",
              "<style scoped>\n",
              "    .dataframe tbody tr th:only-of-type {\n",
              "        vertical-align: middle;\n",
              "    }\n",
              "\n",
              "    .dataframe tbody tr th {\n",
              "        vertical-align: top;\n",
              "    }\n",
              "\n",
              "    .dataframe thead th {\n",
              "        text-align: right;\n",
              "    }\n",
              "</style>\n",
              "<table border=\"1\" class=\"dataframe\">\n",
              "  <thead>\n",
              "    <tr style=\"text-align: right;\">\n",
              "      <th></th>\n",
              "      <th>Sentences</th>\n",
              "      <th>Triplet</th>\n",
              "    </tr>\n",
              "  </thead>\n",
              "  <tbody>\n",
              "    <tr>\n",
              "      <th>1</th>\n",
              "      <td>Ajay leads the Support team.</td>\n",
              "      <td>[[(Ajay), leads, (Support, team)]]</td>\n",
              "    </tr>\n",
              "    <tr>\n",
              "      <th>2</th>\n",
              "      <td>Ajay requested a long leave.</td>\n",
              "      <td>[[(Ajay), requested, (long, leave)]]</td>\n",
              "    </tr>\n",
              "    <tr>\n",
              "      <th>3</th>\n",
              "      <td>SBI raised several tickets and Ajay leads SBI product maintainance.</td>\n",
              "      <td>[[(SBI), raised, (several, tickets)], [(Ajay), leads, (SBI, product, maintainance)]]</td>\n",
              "    </tr>\n",
              "  </tbody>\n",
              "</table>\n",
              "</div>"
            ],
            "text/plain": [
              "                                                             Sentences                                                                               Triplet\n",
              "1  Ajay leads the Support team.                                         [[(Ajay), leads, (Support, team)]]                                                  \n",
              "2  Ajay requested a long leave.                                         [[(Ajay), requested, (long, leave)]]                                                \n",
              "3  SBI raised several tickets and Ajay leads SBI product maintainance.  [[(SBI), raised, (several, tickets)], [(Ajay), leads, (SBI, product, maintainance)]]"
            ]
          },
          "metadata": {
            "tags": []
          },
          "execution_count": 27
        }
      ]
    },
    {
      "cell_type": "markdown",
      "metadata": {
        "id": "GSv27OKnd6mp"
      },
      "source": [
        "Loading a custom spaCy model, using CoreNLP for coreference resolution and passing input through a file"
      ]
    },
    {
      "cell_type": "code",
      "metadata": {
        "id": "uNAE7TQ6d5cp"
      },
      "source": [
        "#Download spaCy model. For this example we download en_core_web_lg.\n",
        "!pip install https://github.com/explosion/spacy-models/releases/download/en_core_web_lg-2.3.1/en_core_web_lg-2.3.1.tar.gz"
      ],
      "execution_count": null,
      "outputs": []
    },
    {
      "cell_type": "code",
      "metadata": {
        "id": "2F9zcrC4jNZX"
      },
      "source": [
        "!wget http://nlp.stanford.edu/software/stanford-corenlp-latest.zip\n",
        "!unzip stanford-corenlp-latest.zip\n",
        "!ls"
      ],
      "execution_count": null,
      "outputs": []
    },
    {
      "cell_type": "code",
      "metadata": {
        "id": "UesiDPzfhWos"
      },
      "source": [
        "df_demo = pd.DataFrame({'Text':[\"Ajay leads the Support team. He requested a long leave. SBI raised several tickets and he leads its product maintainance.\"]})\n",
        "df_demo.to_csv(\"Demo.csv\")"
      ],
      "execution_count": 6,
      "outputs": []
    },
    {
      "cell_type": "code",
      "metadata": {
        "id": "sdcrEB8siV0p",
        "colab": {
          "base_uri": "https://localhost:8080/"
        },
        "outputId": "09fdd81c-a1a7-45c6-e02b-aade51a4d296"
      },
      "source": [
        "!ls\n",
        "!pwd"
      ],
      "execution_count": 7,
      "outputs": [
        {
          "output_type": "stream",
          "text": [
            "Demo.csv     sample_data\t     stanford-corenlp-latest.zip\n",
            "neuralcoref  stanford-corenlp-4.2.0\n",
            "/content\n"
          ],
          "name": "stdout"
        }
      ]
    },
    {
      "cell_type": "markdown",
      "metadata": {
        "id": "h4iwZohN5uQW"
      },
      "source": [
        "**CASE 1:**"
      ]
    },
    {
      "cell_type": "code",
      "metadata": {
        "id": "KIY0bcG7qm8k"
      },
      "source": [
        "'''\n",
        "Consider \n",
        "1. if you have an input file named Demo.csv having input in column named Text\n",
        "2. if you want to use a custom spacy model such as en_core_web_lg\n",
        "3. if you want to use Stanford CoreNLP for coreference resolution (assuming it has been downloaded and its location is /content/stanford-corenlp-4.2.0)\n",
        "\n",
        "then below is how you will set required parameters, create and run the information extraction pipeline\n",
        "\n",
        "'''\n",
        "#pie = PipelineIE(file_name='/content/Demo.csv',col_name='Text', spacy_model='en_core_web_lg',corenlp_home=\"/content/stanford-corenlp-4.2.0\", properties={'coref': 'corenlp', 'entity_link': 'spacy', 'ie': 'triplet'})\n",
        "\n",
        "#pie.pipeline_triplet()"
      ],
      "execution_count": null,
      "outputs": []
    },
    {
      "cell_type": "markdown",
      "metadata": {
        "id": "5ZgXTcPf5zp-"
      },
      "source": [
        "**CASE 2**"
      ]
    },
    {
      "cell_type": "code",
      "metadata": {
        "id": "PCX5voTwtTus"
      },
      "source": [
        "'''\n",
        "Consider \n",
        "1. if you have a folder named Input_Files with each file having input in column named Text and all files are in csv format\n",
        "2. if you want to use a custom spacy model such as en_core_web_lg\n",
        "3. if you want to use Stanford CoreNLP for coreference resolution (assuming it has been downloaded and its location is /content/stanford-corenlp-4.2.0)\n",
        "\n",
        "then below is how you will set required parameters, create and run the information extraction pipeline\n",
        "\n",
        "'''\n",
        "#pie = PipelineIE(input=\"csv\",folder_dir=='/content/Input_Files',col_name='Text', spacy_model='en_core_web_lg',corenlp_home=\"/content/stanford-corenlp-4.2.0\", properties={'coref': 'corenlp', 'entity_link': 'spacy', 'ie': 'triplet'})\n",
        "\n",
        "#pie.pipeline_triplet()"
      ],
      "execution_count": null,
      "outputs": []
    },
    {
      "cell_type": "markdown",
      "metadata": {
        "id": "YahU1n6S542t"
      },
      "source": [
        "**CASE 3**"
      ]
    },
    {
      "cell_type": "code",
      "metadata": {
        "id": "xKWk6cxrt26G"
      },
      "source": [
        "'''\n",
        "Consider \n",
        "1. if you have a folder named Input_Files with each file having input in column named Text and all files are in csv format\n",
        "2. if you want to use a custom spacy model such as en_core_web_lg\n",
        "3. if you want to use Stanford CoreNLP for coreference resolution (assuming it has been downloaded and its location is /content/stanford-corenlp-4.2.0)\n",
        "4. if you want to set Input_Files folder location, CoreNLP Home, CoreNLP properties like memory, timeout etc and column name in config.ini file\n",
        "\n",
        "then below is how you will set required parameters, create and run the information extraction pipeline\n",
        "\n",
        "'''\n",
        "#pie = PipelineIE(input=\"csv\", spacy_model='en_core_web_lg', properties={'coref': 'corenlp', 'entity_link': 'spacy', 'ie': 'triplet'})\n",
        "\n",
        "#pie.pipeline_triplet()"
      ],
      "execution_count": null,
      "outputs": []
    }
  ]
}